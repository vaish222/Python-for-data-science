{
 "cells": [
  {
   "cell_type": "code",
   "execution_count": null,
   "id": "7bb64142-4179-4f65-a489-0a32faa47134",
   "metadata": {},
   "outputs": [],
   "source": [
    "import pandas as pd\n",
    "import matplotlib.pyplot as plt\n",
    "df3 = pd.read_csv('df3')\n",
    "%matplotlib inline\n",
    "\n",
    "\n",
    "df3.info()\n",
    "df3.head()\n",
    "df3.plot.scatter(x='a',y='b',s=50,c='red',figsize=(12,3))\n",
    "\n",
    "df3['a'].plot.hist(bins=20)\n",
    "\n",
    "\n",
    "plt.style.use('ggplot')\n",
    "df3['a'].plot.hist(bins=20,alpha=0.5)\n",
    "\n",
    "df3[['a','b']].plot.box()\n",
    "\n",
    "df3['d'].plot.kde()\n",
    "\n",
    "df3['d'].plot.kde(lw=5,ls='--')\n",
    "df3['d'].plot.density(lw=5,ls='--')\n",
    "\n",
    "df3.plot.area(xlim=(0,30),alpha=0.4)\n",
    "\n",
    "f = plt.figure()\n",
    "df3.plot.area(xlim=(0,30),alpha=0.4)\n",
    "plt.legend(loc='center left', bbox_to-anchor=(1.0, 0.5))\n",
    "plt.show()\n"
   ]
  }
 ],
 "metadata": {
  "kernelspec": {
   "display_name": "Python [conda env:base] *",
   "language": "python",
   "name": "conda-base-py"
  },
  "language_info": {
   "codemirror_mode": {
    "name": "ipython",
    "version": 3
   },
   "file_extension": ".py",
   "mimetype": "text/x-python",
   "name": "python",
   "nbconvert_exporter": "python",
   "pygments_lexer": "ipython3",
   "version": "3.12.7"
  }
 },
 "nbformat": 4,
 "nbformat_minor": 5
}
